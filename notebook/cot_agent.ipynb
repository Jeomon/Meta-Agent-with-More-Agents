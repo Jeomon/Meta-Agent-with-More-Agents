{
 "cells": [
  {
   "cell_type": "code",
   "execution_count": 1,
   "metadata": {},
   "outputs": [],
   "source": [
    "from src.inference.groq import ChatGroq\n",
    "from src.agent.cot import COTAgent\n",
    "from os import environ\n",
    "from dotenv import load_dotenv\n",
    "\n",
    "load_dotenv()\n",
    "api_key=environ.get('GROQ_API_KEY')\n",
    "llm=ChatGroq('llama-3.1-70b-versatile',api_key,temperature=0)"
   ]
  },
  {
   "cell_type": "code",
   "execution_count": 3,
   "metadata": {},
   "outputs": [
    {
     "name": "stdout",
     "output_type": "stream",
     "text": [
      "Thought: First, I will add 5 and 6 to get the initial sum\n",
      "Observation: 5 + 6 = 11\n",
      "Thought: Next, I will add 3 to the initial sum of 11\n",
      "Observation: 11 + 3 = 14\n",
      "Thought: Finally, I will add the remaining 3 to the sum of 14\n",
      "Observation: 14 + 3 = 17\n",
      "Thought: Now I know the final answer to tell the user\n",
      "Answer: The final answer is $\\boxed{17}$.\n"
     ]
    },
    {
     "data": {
      "text/plain": [
       "'The final answer is $\\\\boxed{17}$.'"
      ]
     },
     "execution_count": 3,
     "metadata": {},
     "output_type": "execute_result"
    }
   ],
   "source": [
    "agent=COTAgent(llm=llm,max_iterations=5,verbose=True)\n",
    "agent.invoke(\"What is 5+6+3+3\")"
   ]
  }
 ],
 "metadata": {
  "kernelspec": {
   "display_name": "Python 3",
   "language": "python",
   "name": "python3"
  },
  "language_info": {
   "codemirror_mode": {
    "name": "ipython",
    "version": 3
   },
   "file_extension": ".py",
   "mimetype": "text/x-python",
   "name": "python",
   "nbconvert_exporter": "python",
   "pygments_lexer": "ipython3",
   "version": "3.12.6"
  }
 },
 "nbformat": 4,
 "nbformat_minor": 2
}
