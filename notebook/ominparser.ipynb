{
 "cells": [
  {
   "cell_type": "code",
   "execution_count": 12,
   "metadata": {},
   "outputs": [
    {
     "name": "stdout",
     "output_type": "stream",
     "text": [
      "EVENT_ID: 139c26ba81a84b969cff23f371ec0385\n"
     ]
    }
   ],
   "source": [
    "import requests\n",
    "import json\n",
    "\n",
    "# Define the API endpoint and headers\n",
    "url = \"https://microsoft-omniparser.hf.space/gradio_api/call/process\"\n",
    "headers = {\"Content-Type\": \"application/json\"}\n",
    "\n",
    "# Define the payload (data to be sent)\n",
    "payload = {\n",
    "    \"data\": [\n",
    "        {\"path\": \"https://raw.githubusercontent.com/gradio-app/gradio/main/test/test_files/bus.png\"},\n",
    "        0.01,\n",
    "        0.01\n",
    "    ]\n",
    "}\n",
    "\n",
    "# First POST request to get the EVENT_ID\n",
    "response = requests.post(url, headers=headers,json=payload)\n",
    "event_id = response.json()['event_id']\n",
    "print(f\"EVENT_ID: {event_id}\")"
   ]
  },
  {
   "cell_type": "code",
   "execution_count": null,
   "metadata": {},
   "outputs": [
    {
     "name": "stdout",
     "output_type": "stream",
     "text": [
      "event: heartbeat\n",
      "data: null\n",
      "\n",
      "event: heartbeat\n",
      "data: null\n",
      "\n",
      "event: heartbeat\n",
      "data: null\n",
      "\n",
      "event: heartbeat\n",
      "data: null\n",
      "\n",
      "event: heartbeat\n",
      "data: null\n",
      "\n",
      "event: heartbeat\n",
      "data: null\n",
      "\n",
      "event: heartbeat\n",
      "data: null\n",
      "\n",
      "event: heartbeat\n",
      "data: null\n",
      "\n",
      "event: heartbeat\n",
      "data: null\n",
      "\n",
      "event: heartbeat\n",
      "data: null\n",
      "\n",
      "event: heartbeat\n",
      "data: null\n",
      "\n",
      "event: heartbeat\n",
      "data: null\n",
      "\n",
      "event: heartbeat\n",
      "data: null\n",
      "\n",
      "event: heartbeat\n",
      "data: null\n",
      "\n",
      "event: heartbeat\n",
      "data: null\n",
      "\n",
      "event: heartbeat\n",
      "data: null\n",
      "\n",
      "event: heartbeat\n",
      "data: null\n",
      "\n",
      "event: heartbeat\n",
      "data: null\n",
      "\n",
      "event: heartbeat\n",
      "data: null\n",
      "\n",
      "event: heartbeat\n",
      "data: null\n",
      "\n",
      "event: heartbeat\n",
      "data: null\n",
      "\n",
      "event: heartbeat\n",
      "data: null\n",
      "\n",
      "event: heartbeat\n",
      "data: null\n",
      "\n",
      "event: heartbeat\n",
      "data: null\n",
      "\n",
      "event: heartbeat\n",
      "data: null\n",
      "\n",
      "event: heartbeat\n",
      "data: null\n",
      "\n",
      "event: heartbeat\n",
      "data: null\n",
      "\n",
      "event: heartbeat\n",
      "data: null\n",
      "\n",
      "event: heartbeat\n",
      "data: null\n",
      "\n"
     ]
    }
   ],
   "source": [
    "stream_url = f\"https://microsoft-omniparser.hf.space/gradio_api/call/process/{event_id}\"\n",
    "stream_response = requests.get(stream_url, stream=True)\n",
    "for line in stream_response.iter_lines():\n",
    "    print(line.decode('utf-8'))"
   ]
  }
 ],
 "metadata": {
  "kernelspec": {
   "display_name": ".venv",
   "language": "python",
   "name": "python3"
  },
  "language_info": {
   "codemirror_mode": {
    "name": "ipython",
    "version": 3
   },
   "file_extension": ".py",
   "mimetype": "text/x-python",
   "name": "python",
   "nbconvert_exporter": "python",
   "pygments_lexer": "ipython3",
   "version": "3.12.7"
  }
 },
 "nbformat": 4,
 "nbformat_minor": 2
}
