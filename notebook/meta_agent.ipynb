{
 "cells": [
  {
   "cell_type": "code",
   "execution_count": 1,
   "metadata": {},
   "outputs": [],
   "source": [
    "from src.inference.mistral import ChatMistral\n",
    "from src.inference.ollama import ChatOllama\n",
    "from src.agent.meta import MetaAgent\n",
    "from src.agent.tool import ToolAgent\n",
    "from src.message import ImageMessage,SystemMessage,HumanMessage\n",
    "from os import environ\n",
    "from dotenv import load_dotenv\n",
    "\n",
    "load_dotenv()\n",
    "api_key=environ.get('MISTRAL_API_KEY')"
   ]
  },
  {
   "cell_type": "code",
   "execution_count": 2,
   "metadata": {},
   "outputs": [
    {
     "data": {
      "text/plain": [
       "AIMessage(role=assistant, content={'name': 'Assistant', 'role': 'Helpful AI Assistant', 'purpose': 'To provide useful, respectful, and honest responses to your questions and requests.', 'capabilities': ['Answer general knowledge questions', 'Explain complex concepts in a simple way', 'Provide suggestions and recommendations', 'Help with language translations', 'Convert units of measurement', 'Perform simple calculations', 'Offer advice and suggestions within ethical and legal boundaries'], 'limitations': [\"I don't have real-time web browsing capabilities\", \"I don't have personal experiences or feelings\", \"I don't have the ability to access or control external devices or systems\", 'My knowledge cutoff is 2021, so I might not know about recent events or information']})"
      ]
     },
     "execution_count": 2,
     "metadata": {},
     "output_type": "execute_result"
    }
   ],
   "source": [
    "llm=ChatMistral(model='open-mistral-nemo',api_key=api_key)\n",
    "llm.invoke([SystemMessage('helpful ai assistant and respond in json'),HumanMessage('who are you?')],json=True)"
   ]
  }
 ],
 "metadata": {
  "kernelspec": {
   "display_name": ".venv",
   "language": "python",
   "name": "python3"
  },
  "language_info": {
   "codemirror_mode": {
    "name": "ipython",
    "version": 3
   },
   "file_extension": ".py",
   "mimetype": "text/x-python",
   "name": "python",
   "nbconvert_exporter": "python",
   "pygments_lexer": "ipython3",
   "version": "3.12.7"
  }
 },
 "nbformat": 4,
 "nbformat_minor": 2
}
