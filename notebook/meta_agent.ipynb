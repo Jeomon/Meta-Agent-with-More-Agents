{
 "cells": [
  {
   "cell_type": "code",
   "execution_count": 1,
   "metadata": {},
   "outputs": [],
   "source": [
    "from src.inference.groq import ChatGroq\n",
    "from src.inference.ollama import ChatOllama\n",
    "from src.agent.meta import MetaAgent\n",
    "from src.agent.tool import ToolAgent\n",
    "from src.message import ImageMessage,SystemMessage,HumanMessage\n",
    "from os import environ\n",
    "from dotenv import load_dotenv\n",
    "\n",
    "load_dotenv()\n",
    "api_key=environ.get('GROQ_API_KEY')\n",
    "llm=ChatGroq('llama-3.1-70b-versatile',api_key,temperature=0)"
   ]
  }
 ],
 "metadata": {
  "kernelspec": {
   "display_name": "Python 3",
   "language": "python",
   "name": "python3"
  },
  "language_info": {
   "codemirror_mode": {
    "name": "ipython",
    "version": 3
   },
   "file_extension": ".py",
   "mimetype": "text/x-python",
   "name": "python",
   "nbconvert_exporter": "python",
   "pygments_lexer": "ipython3",
   "version": "3.12.6"
  }
 },
 "nbformat": 4,
 "nbformat_minor": 2
}
