{
 "cells": [
  {
   "cell_type": "code",
   "execution_count": 2,
   "metadata": {},
   "outputs": [],
   "source": [
    "from src.inference.mistral import ChatMistral\n",
    "from src.inference.ollama import ChatOllama\n",
    "from src.agent.meta import MetaAgent\n",
    "from src.agent.tool import ToolAgent\n",
    "from src.message import ImageMessage,SystemMessage,HumanMessage\n",
    "from os import environ\n",
    "from dotenv import load_dotenv\n",
    "\n",
    "load_dotenv()\n",
    "api_key=environ.get('MISTrAL_API_KEY')"
   ]
  },
  {
   "cell_type": "code",
   "execution_count": 7,
   "metadata": {},
   "outputs": [
    {
     "data": {
      "text/plain": [
       "AIMessage(role=assistant, content=Hello! I'm a helpful AI assistant. I'm here to provide information, answer questions, and assist you in any way I can. I can explain concepts, provide suggestions, or just chat if you're up for it. How can I assist you today? 😊)"
      ]
     },
     "execution_count": 7,
     "metadata": {},
     "output_type": "execute_result"
    }
   ],
   "source": [
    "llm=ChatMistral(model='open-mistral-nemo',api_key=api_key)\n",
    "llm.invoke([SystemMessage('helpful ai assistant'),HumanMessage('who are you?')])"
   ]
  }
 ],
 "metadata": {
  "kernelspec": {
   "display_name": ".venv",
   "language": "python",
   "name": "python3"
  },
  "language_info": {
   "codemirror_mode": {
    "name": "ipython",
    "version": 3
   },
   "file_extension": ".py",
   "mimetype": "text/x-python",
   "name": "python",
   "nbconvert_exporter": "python",
   "pygments_lexer": "ipython3",
   "version": "3.12.7"
  }
 },
 "nbformat": 4,
 "nbformat_minor": 2
}
