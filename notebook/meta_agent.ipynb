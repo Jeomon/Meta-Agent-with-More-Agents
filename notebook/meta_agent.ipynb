{
 "cells": [
  {
   "cell_type": "code",
   "execution_count": 1,
   "metadata": {},
   "outputs": [],
   "source": [
    "from src.inference.groq import ChatGroq,AudioGroq\n",
    "from src.inference.ollama import ChatOllama\n",
    "from src.agent.meta import MetaAgent\n",
    "from src.agent.tool import ToolAgent\n",
    "from src.message import ImageMessage,SystemMessage,HumanMessage\n",
    "from os import environ\n",
    "from dotenv import load_dotenv\n",
    "\n",
    "load_dotenv()\n",
    "api_key=environ.get('GROQ_API_KEY1')\n",
    "llm=AudioGroq(model='whisper-large-v3',mode='translations',api_key=api_key,temperature=0)"
   ]
  },
  {
   "cell_type": "code",
   "execution_count": 2,
   "metadata": {},
   "outputs": [
    {
     "data": {
      "text/plain": [
       "['whisper-large-v3',\n",
       " 'llama-3.1-8b-instant',\n",
       " 'llama-guard-3-8b',\n",
       " 'llama3-groq-8b-8192-tool-use-preview',\n",
       " 'llama-3.2-11b-vision-preview',\n",
       " 'llava-v1.5-7b-4096-preview',\n",
       " 'distil-whisper-large-v3-en',\n",
       " 'mixtral-8x7b-32768',\n",
       " 'llama3-70b-8192',\n",
       " 'gemma-7b-it',\n",
       " 'llama-3.1-70b-versatile',\n",
       " 'llama-3.2-90b-text-preview',\n",
       " 'llama-3.2-11b-text-preview',\n",
       " 'llama3-groq-70b-8192-tool-use-preview',\n",
       " 'llama-3.2-1b-preview',\n",
       " 'gemma2-9b-it',\n",
       " 'llama-3.2-3b-preview',\n",
       " 'llama3-8b-8192']"
      ]
     },
     "execution_count": 2,
     "metadata": {},
     "output_type": "execute_result"
    }
   ],
   "source": [
    "llm.available_models()"
   ]
  }
 ],
 "metadata": {
  "kernelspec": {
   "display_name": ".venv",
   "language": "python",
   "name": "python3"
  },
  "language_info": {
   "codemirror_mode": {
    "name": "ipython",
    "version": 3
   },
   "file_extension": ".py",
   "mimetype": "text/x-python",
   "name": "python",
   "nbconvert_exporter": "python",
   "pygments_lexer": "ipython3",
   "version": "3.12.7"
  }
 },
 "nbformat": 4,
 "nbformat_minor": 2
}
